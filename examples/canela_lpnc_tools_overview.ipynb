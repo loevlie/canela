{
 "metadata": {
  "language_info": {
   "codemirror_mode": {
    "name": "ipython",
    "version": 3
   },
   "file_extension": ".py",
   "mimetype": "text/x-python",
   "name": "python",
   "nbconvert_exporter": "python",
   "pygments_lexer": "ipython3",
   "version": "3.8.8"
  },
  "orig_nbformat": 4,
  "kernelspec": {
   "name": "python3",
   "display_name": "Python 3.8.8 64-bit ('base': conda)"
  },
  "interpreter": {
   "hash": "720f55fabde104beac2954c2339382d6ae1e78f68b41ee5f7c9571038212b056"
  }
 },
 "nbformat": 4,
 "nbformat_minor": 2,
 "cells": [
  {
   "cell_type": "markdown",
   "source": [
    "# Working with canela.lpnc.LPNC object"
   ],
   "metadata": {}
  },
  {
   "cell_type": "code",
   "execution_count": 2,
   "source": [
    "import os\r\n",
    "from pprint import pprint\r\n",
    "import numpy as np\r\n",
    "import canela.lpnc as lpnc\r\n"
   ],
   "outputs": [],
   "metadata": {}
  },
  {
   "cell_type": "markdown",
   "source": [
    "## 1. Just need a path to lpnc XYZ"
   ],
   "metadata": {}
  },
  {
   "cell_type": "code",
   "execution_count": 3,
   "source": [
    "import importlib.resources\r\n",
    "import canela.data\r\n",
    "\r\n",
    "# use Au20(TBBT)16 as example system\r\n",
    "with importlib.resources.path(canela.data, 'au20_tbbt16.xyz') as p:\r\n",
    "    xyz_path = p\r\n",
    "\r\n",
    "print(os.path.basename(xyz_path))"
   ],
   "outputs": [
    {
     "output_type": "stream",
     "name": "stdout",
     "text": [
      "au20_tbbt16.xyz\n"
     ]
    }
   ],
   "metadata": {}
  },
  {
   "cell_type": "markdown",
   "source": [
    "## 2. Initialize LPNC object using XYZ path"
   ],
   "metadata": {}
  },
  {
   "cell_type": "code",
   "execution_count": 4,
   "source": [
    "nc = lpnc.LPNC(xyz_path)\r\n",
    "print(nc)"
   ],
   "outputs": [
    {
     "output_type": "stream",
     "name": "stdout",
     "text": [
      "Au20C160H208S16\n"
     ]
    }
   ],
   "metadata": {}
  },
  {
   "cell_type": "markdown",
   "source": [
    "## LPNC object contains lots of useful info regarding the nanocluster structure:"
   ],
   "metadata": {}
  },
  {
   "cell_type": "code",
   "execution_count": 5,
   "source": [
    "# ase.Atoms object of nanocluster\r\n",
    "print(nc.atoms)\r\n",
    "print(f'Nanocluster contains {len(nc.atoms)} atoms.')\r\n"
   ],
   "outputs": [
    {
     "output_type": "stream",
     "name": "stdout",
     "text": [
      "Atoms(symbols='C160H208Au20S16', pbc=False, tags=...)\n",
      "Nanocluster contains 404 atoms.\n"
     ]
    }
   ],
   "metadata": {}
  },
  {
   "cell_type": "code",
   "execution_count": 6,
   "source": [
    "# separate core and shell atoms objects\r\n",
    "print(nc.core)\r\n",
    "print(nc.shell)\r\n",
    "\r\n",
    "print('Core atom indices are maintained in each object as tags.')\r\n",
    "print(f'Core atom indices: {nc.core.get_tags()}.')\r\n",
    "print(f'These map directly back to atoms object: {nc.atoms[nc.core.get_tags()] == nc.core}')\r\n"
   ],
   "outputs": [
    {
     "output_type": "stream",
     "name": "stdout",
     "text": [
      "Atoms(symbols='Au7', pbc=False, tags=...)\n",
      "Atoms(symbols='C160H208Au13S16', pbc=False, tags=...)\n",
      "Core atom indices are maintained in each object as tags.\n",
      "Core atom indices: [  3   4   6  11 206 208 211].\n",
      "These map directly back to atoms object: True\n"
     ]
    }
   ],
   "metadata": {}
  },
  {
   "cell_type": "markdown",
   "source": [
    "## Atom IDs should tell you all the info you need to know about each atom in the nanocluster"
   ],
   "metadata": {}
  },
  {
   "cell_type": "code",
   "execution_count": 7,
   "source": [
    "# atom IDs that tell you core-shell info, motif type, core layer, element type, etc.\n",
    "for i in [3, 10, 20, 30]:\n",
    "    print(f'Atom {i} ({nc.atoms[i].symbol:>2}) ID = {nc.ids[i]}')\n",
    "\n",
    "print()\n",
    "help(lpnc.get_atom_ids)"
   ],
   "outputs": [
    {
     "output_type": "stream",
     "name": "stdout",
     "text": [
      "Atom 3 (Au) ID = C_S_01_Au\n",
      "Atom 10 (Au) ID = S_M_-8_Au\n",
      "Atom 20 ( C) ID = S_R_xx_xx\n",
      "Atom 30 ( C) ID = S_R_xx_xx\n",
      "\n",
      "Help on function get_atom_ids in module canela.lpnc.structure:\n",
      "\n",
      "get_atom_ids(atoms, cs_details=None, motifs=None, scale=1.1)\n",
      "    encode structural type of each atom in LPNC\n",
      "    - (C[core] | S[shell], ...\n",
      "    - For core:\n",
      "        - (C, S[surface of core] | B[bulk], int[core layer])\n",
      "        - core layer = 0[center], 1[layer 1], ..., n[surface]\n",
      "    - For shell:\n",
      "        - (S, R[R group of ligand])\n",
      "        - (S, M[metal] | S[sulfur] , int[motif type], E[end] | M[middle])\n",
      "        - end = sulfur atom that terminates a motif (at least one bond to core)\n",
      "    \n",
      "    Returns:\n",
      "    (np.ndarray): 1D array of atom id's ordered by atoms object indices\n",
      "\n"
     ]
    }
   ],
   "metadata": {}
  },
  {
   "cell_type": "markdown",
   "source": [
    "## Core shell info dict"
   ],
   "metadata": {}
  },
  {
   "cell_type": "code",
   "execution_count": 8,
   "source": [
    "print(nc.info.keys(), '\\n')\n",
    "print('Atom indices that are: in <core>, in <shell>, <sulfido> sulfurs, <bridge> sulfurs.')\n",
    "print(\"Number of shell interactions with core <nshellint> (used in MGT's Thermodynamic Stability Model).\")\n",
    "print(f'\\nCore CN avg: {nc.info[\"corecnavg\"]}\\n')\n",
    "print(f'Just Core CN avg:\\n(excludes core-shell bonds from CN) {nc.info[\"justcorecnavg\"]}')"
   ],
   "outputs": [
    {
     "output_type": "stream",
     "name": "stdout",
     "text": [
      "dict_keys(['core', 'shell', 'sulfido', 'bridge', 'nshellint', 'corecnavg', 'justcorecnavg']) \n",
      "\n",
      "Atom indices that are: in <core>, in <shell>, <sulfido> sulfurs, <bridge> sulfurs.\n",
      "Number of shell interactions with core <nshellint> (used in MGT's Thermodynamic Stability Model).\n",
      "\n",
      "Core CN avg: 4.571428571428571\n",
      "\n",
      "Just Core CN avg:\n",
      "(excludes core-shell bonds from CN) 3.4285714285714284\n"
     ]
    }
   ],
   "metadata": {}
  },
  {
   "cell_type": "markdown",
   "source": [
    "## Motif info\n",
    "\n",
    "nc.motifs is a dict with:\n",
    "\n",
    "* key = motif type (1 = monomer, 2 = dimer, 0 = bridge, -1 = sulfido, -8 = octameric ring)\n",
    "* value = np array of atom indices involved in each motif; shape = (n_motifs x n_atoms_in_motif)"
   ],
   "metadata": {}
  },
  {
   "cell_type": "code",
   "execution_count": 9,
   "source": [
    "pprint(nc.motifs)\n",
    "print()\n",
    "help(lpnc.count_motifs)"
   ],
   "outputs": [
    {
     "output_type": "stream",
     "name": "stdout",
     "text": [
      "{-8: array([[214, 207, 212, 210, 215, 204, 216,   0,  16,   1,  15,  10,  12,\n",
      "          5,  14,   7]]),\n",
      " 1: array([[ 19,   2,  17],\n",
      "       [219, 205, 217]]),\n",
      " 3: array([[218, 209, 213,   8,  13,   9,  18]])}\n",
      "\n",
      "Help on function count_motifs in module canela.lpnc.structure:\n",
      "\n",
      "count_motifs(atom, scale=1.1, show=False, sulfido=[])\n",
      "    algorithmically determine motif types and counts of LPNC\n",
      "    \n",
      "    Arguments:\n",
      "        atom (ase.Atoms): metal NC atoms object\n",
      "    \n",
      "    Keyword Arguments:\n",
      "        full_cluster (bool): if False, atoms object only contains shell\n",
      "                               (default: False)\n",
      "        scale (float): scales covalent radii when calculating neighborlist\n",
      "                         (default: 1.0)\n",
      "        show (bool): if True, motif info is printed\n",
      "                       (default: False)\n",
      "        sulfido (list): list of sulfido atom indices found from\n",
      "                          get_core_shell function\n",
      "                          (default: [])\n",
      "    \n",
      "    Returns:\n",
      "        motif info (dict): {-1: [sulfido indices],\n",
      "                             0: [bridging S indices],\n",
      "                             1: [monomer (S-M-S) indices],\n",
      "                             2: [dimer (S-M-S-M-S) indices],\n",
      "                             ...etc}\n",
      "\n"
     ]
    }
   ],
   "metadata": {}
  },
  {
   "cell_type": "markdown",
   "source": [
    "## Bonds object\n",
    "\n",
    "`nc.bonds`\n",
    "\n",
    "* coordination dict of atom connectivity: `nc.bonds.coord_dict`\n",
    "* array of coordination numbers: `nc.bonds.cns`\n",
    "* bond array (`nc.bonds.bond_arr`) and halfbonds array (`nc.bonds.halfbond_arr`)"
   ],
   "metadata": {}
  },
  {
   "cell_type": "code",
   "execution_count": 10,
   "source": [
    "print(nc.bonds, '\\n')\n",
    "\n",
    "# coord_dict of atom connectivity\n",
    "for key in [10, 20, 30]:\n",
    "    print(f'Atom {key} ({nc.atoms[key].symbol}) has a CN of {nc.bonds.cns[key]}.')\n",
    "    print(f'\\tIt is bonded to: {nc.bonds.coord_dict[key]}')\n"
   ],
   "outputs": [
    {
     "output_type": "stream",
     "name": "stdout",
     "text": [
      "<canela.lpnc.structure.Bonds object at 0x000001B805D20070> \n",
      "\n",
      "Atom 10 (Au) has a CN of 2.\n",
      "\tIt is bonded to: [12, 15]\n",
      "Atom 20 (C) has a CN of 3.\n",
      "\tIt is bonded to: [14, 21, 28]\n",
      "Atom 30 (C) has a CN of 3.\n",
      "\tIt is bonded to: [15, 31, 38]\n"
     ]
    }
   ],
   "metadata": {}
  },
  {
   "cell_type": "code",
   "execution_count": 11,
   "source": [
    "print('Half bonds array contains [0, 1] and [1, 0].')\n",
    "print('Bonds array only contains [0, 1].')\n",
    "print(f'Length of bonds ({len(nc.bonds.bond_arr)}) == 1/2 length of half_bonds ({len(nc.bonds.halfbond_arr)})')\n"
   ],
   "outputs": [
    {
     "output_type": "stream",
     "name": "stdout",
     "text": [
      "Half bonds array contains [0, 1] and [1, 0].\n",
      "Bonds array only contains [0, 1].\n",
      "Length of bonds (430) == 1/2 length of half_bonds (860)\n"
     ]
    }
   ],
   "metadata": {}
  },
  {
   "cell_type": "markdown",
   "source": [
    "## Bond distance analysis: calculate bond distances based on atom ID type\n",
    "\n",
    "`lpnc.get_bond_distance_analysis(nc.atoms)`\n",
    "\n",
    "### Returns nested dict with atom ID keys and lists of bond distances (in Angstrom)"
   ],
   "metadata": {}
  },
  {
   "cell_type": "code",
   "execution_count": 12,
   "source": [
    "# currently takes an Atoms object or xyz path\n",
    "# Next update: allow LPNC object as input\n",
    "bond_analysis = lpnc.get_bond_distance_analysis(nc.atoms)\n",
    "\n",
    "# bond_analysis is a nested dict that contains\n",
    "# lists of bond distances between atom ID types\n",
    "for atom_id in bond_analysis:\n",
    "    if bond_analysis[atom_id]:\n",
    "        print(f'\\n{atom_id} bonded to:')\n",
    "        for bonded2 in bond_analysis[atom_id]:\n",
    "            # value is a list of distances\n",
    "            # NOTE: this should be an array in the future\n",
    "            #       for now, let's just cast it\n",
    "            dists = np.array(bond_analysis[atom_id][bonded2])\n",
    "            print(f'  {bonded2}: {dists.mean():.3f} +/- {dists.std():.3f}')"
   ],
   "outputs": [
    {
     "output_type": "stream",
     "name": "stdout",
     "text": [
      "\n",
      "S_M_-8_Au bonded to:\n",
      "  S_S_-8_xM: 2.371 +/- 0.016\n",
      "  C_S_01_Au: 2.966 +/- 0.000\n",
      "\n",
      "S_M_01_Au bonded to:\n",
      "  S_S_01_xE: 2.353 +/- 0.003\n",
      "\n",
      "C_S_01_Au bonded to:\n",
      "  C_B_00_Au: 2.819 +/- 0.009\n",
      "  S_S_01_xE: 2.449 +/- 0.015\n",
      "  S_M_-8_Au: 2.966 +/- 0.000\n",
      "  C_S_01_Au: 2.830 +/- 0.033\n",
      "  S_S_03_xE: 2.412 +/- 0.000\n",
      "\n",
      "C_B_00_Au bonded to:\n",
      "  C_S_01_Au: 2.819 +/- 0.009\n",
      "\n",
      "S_M_03_Au bonded to:\n",
      "  S_S_03_xM: 2.357 +/- 0.005\n",
      "  S_S_03_xE: 2.347 +/- 0.000\n",
      "\n",
      "S_S_-8_xM bonded to:\n",
      "  S_M_-8_Au: 2.371 +/- 0.016\n",
      "  S_R_xx_xx: 1.793 +/- 0.002\n",
      "\n",
      "S_S_03_xM bonded to:\n",
      "  S_M_03_Au: 2.357 +/- 0.005\n",
      "  S_R_xx_xx: 1.792 +/- 0.000\n",
      "\n",
      "S_S_01_xE bonded to:\n",
      "  S_M_01_Au: 2.353 +/- 0.003\n",
      "  C_S_01_Au: 2.449 +/- 0.015\n",
      "  S_R_xx_xx: 1.786 +/- 0.001\n",
      "\n",
      "S_S_03_xE bonded to:\n",
      "  C_S_01_Au: 2.412 +/- 0.000\n",
      "  S_M_03_Au: 2.347 +/- 0.000\n",
      "  S_R_xx_xx: 1.793 +/- 0.000\n"
     ]
    }
   ],
   "metadata": {
    "tags": []
   }
  }
 ]
}